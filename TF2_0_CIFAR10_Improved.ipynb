{
  "nbformat": 4,
  "nbformat_minor": 0,
  "metadata": {
    "colab": {
      "provenance": []
    },
    "kernelspec": {
      "name": "python3",
      "display_name": "Python 3"
    },
    "language_info": {
      "name": "python"
    }
  },
  "cells": [
    {
      "cell_type": "code",
      "execution_count": 3,
      "metadata": {
        "colab": {
          "base_uri": "https://localhost:8080/"
        },
        "id": "uaQ1Eonc8T8U",
        "outputId": "510bd490-2071-46f0-815e-207623cd31b6"
      },
      "outputs": [
        {
          "output_type": "stream",
          "name": "stdout",
          "text": [
            "\u001b[31mERROR: Could not find a version that satisfies the requirement tensorflow-gpu==2.15.0 (from versions: 2.8.0rc0, 2.8.0rc1, 2.8.0, 2.8.1, 2.8.2, 2.8.3, 2.8.4, 2.9.0rc0, 2.9.0rc1, 2.9.0rc2, 2.9.0, 2.9.1, 2.9.2, 2.9.3, 2.10.0rc0, 2.10.0rc1, 2.10.0rc2, 2.10.0rc3, 2.10.0, 2.10.1, 2.11.0rc0, 2.11.0rc1, 2.11.0rc2, 2.11.0, 2.12.0)\u001b[0m\u001b[31m\n",
            "\u001b[0m\u001b[31mERROR: No matching distribution found for tensorflow-gpu==2.15.0\u001b[0m\u001b[31m\n",
            "\u001b[0m2.15.0\n"
          ]
        }
      ],
      "source": [
        "# Install TensorFlow\n",
        "\n",
        "!pip install -q  tensorflow-gpu==2.15.0\n",
        "import tensorflow as tf\n",
        "print(tf.__version__)"
      ]
    },
    {
      "cell_type": "code",
      "source": [
        "# additional imports\n",
        "import numpy as np\n",
        "import matplotlib.pyplot as plt\n",
        "from tensorflow.keras.layers import Input, Conv2D, Dense, Flatten, Dropout, GlobalMaxPooling2D, MaxPooling2D, BatchNormalization\n",
        "from tensorflow.keras.models import Model\n"
      ],
      "metadata": {
        "id": "W4LlRMpq9Kx-"
      },
      "execution_count": 4,
      "outputs": []
    },
    {
      "cell_type": "code",
      "source": [
        "# Looad in the data\n",
        "cifar10 = tf.keras.datasets.cifar10\n",
        "(x_train, y_train), (x_test, y_test) = cifar10.load_data()\n",
        "x_train, x_test = x_train / 255.0, x_test / 255.0\n",
        "y_train, y_test = y_train.flatten(), y_test.flatten()\n",
        "print(\"x_train.shape\", x_train.shape)\n",
        "print(\"y_train.shape\", y_train.shape)"
      ],
      "metadata": {
        "colab": {
          "base_uri": "https://localhost:8080/"
        },
        "id": "kev-f58Y9xA-",
        "outputId": "7b5b242b-3970-4d51-9e17-d8391711a5f5"
      },
      "execution_count": 6,
      "outputs": [
        {
          "output_type": "stream",
          "name": "stdout",
          "text": [
            "x_train.shape (50000, 32, 32, 3)\n",
            "y_train.shape (50000,)\n"
          ]
        }
      ]
    },
    {
      "cell_type": "code",
      "source": [
        "# number of classes\n",
        "K = len(set(y_train))\n",
        "print(\"number of classes:\", K)"
      ],
      "metadata": {
        "colab": {
          "base_uri": "https://localhost:8080/"
        },
        "id": "1zys1yVc-p81",
        "outputId": "04656d6f-60c1-4029-98b3-a99d0ccc9d47"
      },
      "execution_count": 8,
      "outputs": [
        {
          "output_type": "stream",
          "name": "stdout",
          "text": [
            "number of classes: 10\n"
          ]
        }
      ]
    },
    {
      "cell_type": "code",
      "source": [
        "# Build model using functional API\n",
        "i = Input(shape=x_train[0].shape)\n",
        "# x = Conv2D(32, (3,3), strides=2, activation='relu')(i)\n",
        "# x = Conv2D(64, (3,3), strides=2, activation='relu')(x)\n",
        "# x = Conv2d(128, (3,3), strides=2, activation='relu')(x)\n",
        "\n",
        "x = Conv2D(32, (3,3), activation='relu', padding='same')(i)\n",
        "x = BatchNormalization()(x)\n",
        "x = Conv2D(32, (3,3), activation='relu', padding='same')(x)\n",
        "x = BatchNormalization()(x)\n",
        "x = MaxPooling2D((2,2))(x)\n",
        "# x = Dropout(0.2)(x)\n",
        "x = Conv2D(64, (3,3), activation='relu', padding='same')(i)\n",
        "x = BatchNormalization()(x)\n",
        "x = Conv2D(64, (3,3), activation='relu', padding='same')(x)\n",
        "x = BatchNormalization()(x)\n",
        "x = MaxPooling2D((2,2))(x)\n",
        "# x = Dropout(0.2)(x)\n",
        "x = Conv2D(128, (3,3), activation='relu', padding='same')(i)\n",
        "x = BatchNormalization()(x)\n",
        "x = Conv2D(128, (3,3), activation='relu', padding='same')(x)\n",
        "x = BatchNormalization()(x)\n",
        "x = MaxPooling2D((2,2))(x)\n",
        "# x = Dropout(0.2)(x)\n",
        "\n",
        "# x = GlobalMaxPooling2D()(x)\n",
        "x = Flatten()(x)\n",
        "x = Dropout(0.2)(x)\n",
        "x = Dense(1024, activation='relu')(x)\n",
        "x = Dropout(0.2)(x)\n",
        "x = Dense(K, activation='softmax')(x)\n",
        "\n",
        "model = Model(i, x)\n",
        "\n",
        "\n",
        "\n",
        "\n",
        "\n"
      ],
      "metadata": {
        "id": "TSfjhmhn-1He"
      },
      "execution_count": 11,
      "outputs": []
    },
    {
      "cell_type": "code",
      "source": [
        "# Compile\n",
        "# Note: Make sure your using GPU for this!\n",
        "model.compile(optimizer='adam',\n",
        "              loss='sparse_categorical_crossentropy',\n",
        "              metrics=['accuracy'])"
      ],
      "metadata": {
        "id": "ixpPvmK9BXfC"
      },
      "execution_count": 12,
      "outputs": []
    },
    {
      "cell_type": "code",
      "source": [
        "# Fit\n",
        "r = model.fit(x_train, y_train, validation_data=(x_test, y_test), epochs=3)"
      ],
      "metadata": {
        "colab": {
          "base_uri": "https://localhost:8080/"
        },
        "id": "3vbJNCFuCASi",
        "outputId": "24211bb6-004e-4ef3-85f8-bf706744c062"
      },
      "execution_count": null,
      "outputs": [
        {
          "output_type": "stream",
          "name": "stdout",
          "text": [
            "Epoch 1/3\n",
            "  28/1563 [..............................] - ETA: 44:33 - loss: 19.8114 - accuracy: 0.2321"
          ]
        }
      ]
    },
    {
      "cell_type": "code",
      "source": [
        "# Fit with data augmentation\n",
        "# Note"
      ],
      "metadata": {
        "id": "eISEGnpsCTXj"
      },
      "execution_count": null,
      "outputs": []
    }
  ]
}